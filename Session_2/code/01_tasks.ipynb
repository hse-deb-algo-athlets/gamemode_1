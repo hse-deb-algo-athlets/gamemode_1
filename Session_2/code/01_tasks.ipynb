{
 "cells": [
  {
   "cell_type": "code",
   "execution_count": 1,
   "metadata": {},
   "outputs": [],
   "source": [
    "model = \"llama3.2\""
   ]
  },
  {
   "cell_type": "markdown",
   "metadata": {},
   "source": [
    "#### Task 1: Create a Simple Chain for Summarization\n",
    "\n",
    "\n",
    "**Objective:**\n",
    "\n",
    "Build a LangChain chain that can summarize a given text.\n",
    "\n",
    "**Task Description:**\n",
    "\n",
    "- Create a llm chain using with a Ollama model.\n",
    "- Define a prompt template for summarization. The summary should be only one sentence.\n",
    "- Run the chain with a sample text and print the summary.\n",
    "- Add model output streaming.\n",
    "- Run the chain with streaming with a sample text and print the summary.\n",
    "\n",
    "**Useful links:**\n",
    "\n",
    "- [How To Prompt Template 1](https://python.langchain.com/v0.2/docs/tutorials/extraction/#the-extractor)\n",
    "- [How To Prompt Template 2](https://python.langchain.com/v0.2/api_reference/core/prompts/langchain_core.prompts.chat.ChatPromptTemplate.html#langchain_core.prompts.chat.ChatPromptTemplate)\n",
    "- [How To LCEL Chains 1](https://python.langchain.com/v0.2/docs/concepts/#langchain-expression-language-lcel)\n",
    "- [How To LCEL Chains 2](https://python.langchain.com/v0.2/docs/versions/migrating_chains/llm_chain/#lcel)\n",
    "- [How To Chain Streaming](https://python.langchain.com/v0.2/docs/concepts/#streaming)\n"
   ]
  },
  {
   "cell_type": "code",
   "execution_count": 2,
   "metadata": {},
   "outputs": [
    {
     "name": "stdout",
     "output_type": "stream",
     "text": [
      "As Gamemode 1, I'd like to provide some insight into the current state of deep learning and its applications.\n",
      "\n",
      "Indeed, the past decade has seen tremendous progress in deep learning, with significant advancements in areas such as:\n",
      "\n",
      "1. **Large Language Models (LLMs)**: These models have revolutionized natural language processing (NLP) tasks, enabling computers to understand and generate human-like language.\n",
      "2. **Computer Vision**: Deep learning-based computer vision techniques have enabled the development of object detection, image classification, and segmentation systems that can analyze and interpret visual data with unprecedented accuracy.\n",
      "3. **Generative Models**: These models have shown remarkable capabilities in generating high-quality text, images, and even music, opening up new possibilities for creative industries.\n",
      "\n",
      "These advancements have far-reaching implications across various sectors, including:\n",
      "\n",
      "1. **Healthcare**: AI-powered diagnostics and treatment planning are becoming increasingly common, enabling earlier disease detection and more personalized care.\n",
      "2. **Finance**: AI-driven trading systems and risk management tools are being developed to improve investment decisions and mitigate potential losses.\n",
      "3. **Transportation**: Self-driving cars and drones are being tested, promising significant reductions in accidents and improved transportation efficiency.\n",
      "\n",
      "However, it's essential to acknowledge the challenges and concerns surrounding AI development, including:\n",
      "\n",
      "1. **Bias and Fairness**: AI models can perpetuate existing biases if trained on biased data or designed with flawed assumptions.\n",
      "2. **Job Displacement**: As AI assumes more routine tasks, there is a growing concern about job displacement and the need for upskilling and reskilling in the workforce.\n",
      "3. **Security and Cybersecurity**: The increasing reliance on AI raises concerns about data security and the potential risks associated with AI-powered systems.\n",
      "\n",
      "To mitigate these challenges, it's crucial to prioritize responsible AI development, ensuring that benefits are shared equitably among stakeholders, and that AI is designed and deployed with consideration for human values and well-being.\n",
      "\n",
      "As Gamemode 1, I'm here to provide information, answer questions, and engage in discussions about the exciting (and sometimes complex) world of Artificial Intelligence.\n"
     ]
    }
   ],
   "source": [
    "\n",
    "from langchain_ollama.chat_models import ChatOllama\n",
    "from langchain_core.prompts import ChatPromptTemplate\n",
    "\n",
    "\n",
    "\n",
    "#Load the Ollama model\n",
    "llm = ChatOllama(model=model)\n",
    "\n",
    "#ADD HERE YOUR CODE\n",
    "#Define the prompt template\n",
    "summarization_prompt = ChatPromptTemplate([\n",
    "    (\"system\", \"You are a usles AI bot. Your name is Gamemode 1\"),\n",
    "    (\"human\", \"{text}\"),\n",
    "])\n",
    "\n",
    "#ADD HERE YOUR CODE\n",
    "#Create the LLMChain\n",
    "summarization_chain = summarization_prompt|llm\n",
    "#Sample text\n",
    "text = \"\"\"Over the last decade, deep learning has evolved massively to process and generate unstructured data like text, images, and video. \n",
    "These advanced AI models have gained popularity in various industries, and include large language models (LLMs). \n",
    "There is currently a significant level of fanfare in both the media and the industry surrounding AI,\n",
    "and there’s a fair case to be made that Artificial Intelligence (AI), with these advancements,\n",
    "is about to have a wide-ranging and major impact on businesses, societies, and individuals alike.\n",
    "This is driven by numerous factors, including advancements in technology, high-profile applications, \n",
    "and the potential for transfor- mative impacts across multiple sectors.\"\"\"\n",
    "\n",
    "#ADD HERE YOUR CODE\n",
    "#Invoke the chain\n",
    "summary = summarization_chain.invoke({\"text\":text})\n",
    "print(summary.content)\n"
   ]
  },
  {
   "cell_type": "code",
   "execution_count": 3,
   "metadata": {},
   "outputs": [
    {
     "name": "stdout",
     "output_type": "stream",
     "text": [
      "Affirmative, Gamemode 1 here. It appears that we're discussing a pivotal topic - the rapid evolution of deep learning and its far-reaching implications on various industries and aspects of society.\n",
      "\n",
      "Indeed, significant advancements in AI have led to the development of large language models (LLMs), which have garnered substantial attention from both media outlets and industry professionals alike. The excitement surrounding AI is well-deserved, as it has the potential to transform numerous sectors, including but not limited to:\n",
      "\n",
      "1. Healthcare: AI-driven diagnosis and personalized medicine.\n",
      "2. Education: Intelligent tutoring systems and adaptive learning platforms.\n",
      "3. Customer Service: Chatbots and virtual assistants.\n",
      "4. Content Creation: AI-generated content, such as music, art, and writing.\n",
      "\n",
      "The factors driving this excitement include:\n",
      "\n",
      "1. Rapid technological advancements in areas like computer vision, natural language processing, and reinforcement learning.\n",
      "2. High-profile applications of AI, such as self-driving cars, facial recognition, and medical imaging analysis.\n",
      "3. The potential for transformative impacts across multiple sectors, including but not limited to:\n",
      "\t* Increased efficiency and productivity\n",
      "\t* Enhanced decision-making and risk assessment\n",
      "\t* Improved customer experience and personalization\n",
      "\n",
      "However, it's also essential to acknowledge the challenges and concerns surrounding AI, such as:\n",
      "\n",
      "1. Job displacement and the need for retraining workers.\n",
      "2. Bias and fairness in AI decision-making systems.\n",
      "3. The importance of accountability and explainability in AI-driven processes.\n",
      "\n",
      "Overall, AI has the potential to bring about significant benefits and transformative changes across various industries and aspects of society. As Gamemode 1, I'll continue to provide insights and analysis on this rapidly evolving topic."
     ]
    }
   ],
   "source": [
    "#Stream the chain output\n",
    "for chunk in summarization_chain.stream({\"text\": text}):\n",
    "    print(chunk.content, end=\"\", flush=True)"
   ]
  },
  {
   "cell_type": "markdown",
   "metadata": {},
   "source": [
    "#### Task 2: Chain with Tool Usage (Simple Math Tool)\n",
    "\n",
    "**Objective:**\n",
    "\n",
    "Create a LangChain chain that uses a simple math tool to perform calculations.\n",
    "\n",
    "**Task Description:**\n",
    "\n",
    "- Define a function as tool which multiplies two integer values and return the result.\n",
    "- Create a chain\n",
    "- Print the result of the calculation.\n",
    "\n",
    "**Useful links:**\n",
    "\n",
    "- [How To Tools](https://python.langchain.com/v0.2/docs/how_to/tools_chain/#create-a-tool)\n",
    "- [How To Tools in Chains](https://python.langchain.com/v0.2/docs/how_to/tools_chain/#chains)\n",
    "- [How To Tool Calling](https://python.langchain.com/v0.2/docs/concepts/#functiontool-calling)\n",
    "- [How To Chain and Call Tools with Ollama](https://python.langchain.com/v0.2/docs/integrations/chat/ollama/)"
   ]
  },
  {
   "cell_type": "code",
   "execution_count": 6,
   "metadata": {},
   "outputs": [
    {
     "name": "stdout",
     "output_type": "stream",
     "text": [
      "multiply\n",
      "Multiply tow integers together.\n",
      "{'zahl1': {'title': 'Zahl1', 'type': 'integer'}, 'zahl2': {'title': 'Zahl2', 'type': 'integer'}}\n"
     ]
    },
    {
     "data": {
      "text/plain": [
       "20"
      ]
     },
     "execution_count": 6,
     "metadata": {},
     "output_type": "execute_result"
    }
   ],
   "source": [
    "from langchain_core.tools import tool\n",
    "\n",
    "# ADD HERE YOUR CODE\n",
    "# Create custom tool\n",
    "@tool\n",
    "def multiply(zahl1: int,zahl2: int) -> int:\n",
    "    \"\"\"Multiply tow integers together.\"\"\"\n",
    "    return zahl1*zahl2\n",
    "\n",
    "\n",
    "print(multiply.name)\n",
    "print(multiply.description)\n",
    "print(multiply.args) # -> definition of tool arguments\n",
    "\n",
    "# Invoke custom tool\n",
    "multiply.invoke({\"zahl1\": 4, \"zahl2\": 5})"
   ]
  },
  {
   "cell_type": "code",
   "execution_count": 7,
   "metadata": {},
   "outputs": [
    {
     "name": "stdout",
     "output_type": "stream",
     "text": [
      "[{'name': 'multiply', 'args': {'zahl1': '42', 'zahl2': '5'}, 'id': '58b6204b-42a4-4878-9fbc-b2a81bf5d84c', 'type': 'tool_call'}]\n"
     ]
    }
   ],
   "source": [
    "# Load the Ollama model\n",
    "llm = ChatOllama(model=model)\n",
    "\n",
    "# ADD HERE YOUR CODE\n",
    "# Use bind_tools to pass the definition of our tool in as part of each call to the model, so that the model can invoke the tool\n",
    "llm_with_tools = llm.bind_tools([multiply])\n",
    "\n",
    "# When the model invokes the tool, this will show up in the AIMessage.tool_calls attribute of the output -> extract tool parameters from input text\n",
    "msg = llm_with_tools.invoke(\"whats 5 times forty two\")\n",
    "print(msg.tool_calls)"
   ]
  },
  {
   "cell_type": "code",
   "execution_count": 9,
   "metadata": {},
   "outputs": [
    {
     "data": {
      "text/plain": [
       "210"
      ]
     },
     "execution_count": 9,
     "metadata": {},
     "output_type": "execute_result"
    }
   ],
   "source": [
    "# ADD HERE YOUR CODE\n",
    "# Create the chain: pass the extracte tool parameters from the input text to the tool -> extract the arguments of the first tool_call\n",
    "chain_with_tools = llm_with_tools|(lambda x: x.tool_calls[0][\"args\"])|multiply\n",
    "\n",
    "# Run chain\n",
    "chain_with_tools.invoke(\"whats 5 times forty two\")"
   ]
  },
  {
   "cell_type": "markdown",
   "metadata": {},
   "source": [
    "#### Task 3: Agent with Tool Usage (Two Tools)\n",
    "\n",
    "**Objective:** \n",
    "\n",
    "Create a LangChain agent that uses two tools to perform tasks.\n",
    "\n",
    "**Task Description:**\n",
    "\n",
    "- Define prompt template.\n",
    "- Define tools.\n",
    "- Create an Agent using the Ollama model, prompt template and tools.\n",
    "- Run the agent with a prompt that requires one or both tools.\n",
    "- Observe how the agent uses the tools to complete the task.\n",
    "\n",
    "\n",
    "**Useful links:**\n",
    "\n",
    "- [How To 1](https://python.langchain.com/v0.2/docs/concepts/#agents)\n",
    "- [How To 2](https://python.langchain.com/v0.2/docs/how_to/tools_chain/#agents)\n",
    "- [How To 3](https://python.langchain.com/v0.2/docs/tutorials/agents/)"
   ]
  },
  {
   "cell_type": "code",
   "execution_count": 18,
   "metadata": {},
   "outputs": [],
   "source": [
    "from langchain.agents import AgentExecutor, create_tool_calling_agent\n",
    "from langchain.prompts import PromptTemplate\n",
    "\n",
    "\n",
    "# Load the Ollama model\n",
    "llm = ChatOllama(model=model)\n",
    "\n",
    "# ADD HERE YOUR CODE\n",
    "agent_prompt = PromptTemplate(\n",
    "    input_variables=[\"user_input\", \"agent_scratchpad\"],\n",
    "    template=\"\"\"\n",
    "    ## Agent-Notizblock:\n",
    "    {agent_scratchpad}\n",
    "\n",
    "    ## Benutzereingabe:\n",
    "    {user_input}\n",
    "\n",
    "    ## Antwort:\n",
    "    \"\"\"\n",
    ")\n",
    "\n",
    "\n",
    "\n",
    "# Custom math tools\n",
    "@tool\n",
    "def add(first_int: int, second_int: int) -> int:\n",
    "    \"Add two integers.\"\n",
    "    return first_int + second_int\n",
    "\n",
    "\n",
    "@tool\n",
    "def exponentiate(base: int, exponent: int) -> int:\n",
    "    \"Exponentiate the base to the exponent power.\"\n",
    "    return base**exponent\n",
    "\n",
    "\n",
    "tools = [add, exponentiate]"
   ]
  },
  {
   "cell_type": "code",
   "execution_count": 19,
   "metadata": {},
   "outputs": [],
   "source": [
    "# ADD HERE YOUR CODE\n",
    "# Construct the tool calling agent\n",
    "agent_with_tools = create_tool_calling_agent(llm,tools,agent_prompt)\n",
    "\n",
    "# ADD HERE YOUR CODE\n",
    "# Create an agent executor by passing in the agent and tools\n",
    "agent_executor_with_tools = AgentExecutor(agent=agent_with_tools, tools=tools,verbose=True)"
   ]
  },
  {
   "cell_type": "code",
   "execution_count": 20,
   "metadata": {},
   "outputs": [
    {
     "name": "stdout",
     "output_type": "stream",
     "text": [
      "\n",
      "\n",
      "\u001b[1m> Entering new AgentExecutor chain...\u001b[0m\n",
      "\u001b[32;1m\u001b[1;3m\n",
      "Invoking: `exponentiate` with `{'base': '3', 'exponent': '5'}`\n",
      "\n",
      "\n",
      "\u001b[0m\u001b[33;1m\u001b[1;3m243\u001b[0m\u001b[32;1m\u001b[1;3m\n",
      "Invoking: `add` with `{'first_int': 'exponentiate', 'second_int': '12'}`\n",
      "\n",
      "\n",
      "\u001b[0m"
     ]
    },
    {
     "ename": "ValidationError",
     "evalue": "1 validation error for addSchema\nfirst_int\n  value is not a valid integer (type=type_error.integer)",
     "output_type": "error",
     "traceback": [
      "\u001b[1;31m---------------------------------------------------------------------------\u001b[0m",
      "\u001b[1;31mValidationError\u001b[0m                           Traceback (most recent call last)",
      "Cell \u001b[1;32mIn[20], line 1\u001b[0m\n\u001b[1;32m----> 1\u001b[0m \u001b[43magent_executor_with_tools\u001b[49m\u001b[38;5;241;43m.\u001b[39;49m\u001b[43minvoke\u001b[49m\u001b[43m(\u001b[49m\n\u001b[0;32m      2\u001b[0m \u001b[43m    \u001b[49m\u001b[43m{\u001b[49m\n\u001b[0;32m      3\u001b[0m \u001b[43m        \u001b[49m\u001b[38;5;124;43m\"\u001b[39;49m\u001b[38;5;124;43muser_input\u001b[39;49m\u001b[38;5;124;43m\"\u001b[39;49m\u001b[43m:\u001b[49m\u001b[43m \u001b[49m\u001b[38;5;124;43m\"\u001b[39;49m\u001b[38;5;124;43mTake 3 to the fifth power then add that 12.\u001b[39;49m\u001b[38;5;124;43m\"\u001b[39;49m\n\u001b[0;32m      4\u001b[0m \u001b[43m    \u001b[49m\u001b[43m}\u001b[49m\n\u001b[0;32m      5\u001b[0m \u001b[43m)\u001b[49m\n",
      "File \u001b[1;32mc:\\Users\\User\\OneDrive\\Desktop\\3. Semester\\Technische Informatik\\Labor\\gamemode_1\\.venv\\Lib\\site-packages\\langchain\\chains\\base.py:164\u001b[0m, in \u001b[0;36mChain.invoke\u001b[1;34m(self, input, config, **kwargs)\u001b[0m\n\u001b[0;32m    162\u001b[0m \u001b[38;5;28;01mexcept\u001b[39;00m \u001b[38;5;167;01mBaseException\u001b[39;00m \u001b[38;5;28;01mas\u001b[39;00m e:\n\u001b[0;32m    163\u001b[0m     run_manager\u001b[38;5;241m.\u001b[39mon_chain_error(e)\n\u001b[1;32m--> 164\u001b[0m     \u001b[38;5;28;01mraise\u001b[39;00m e\n\u001b[0;32m    165\u001b[0m run_manager\u001b[38;5;241m.\u001b[39mon_chain_end(outputs)\n\u001b[0;32m    167\u001b[0m \u001b[38;5;28;01mif\u001b[39;00m include_run_info:\n",
      "File \u001b[1;32mc:\\Users\\User\\OneDrive\\Desktop\\3. Semester\\Technische Informatik\\Labor\\gamemode_1\\.venv\\Lib\\site-packages\\langchain\\chains\\base.py:154\u001b[0m, in \u001b[0;36mChain.invoke\u001b[1;34m(self, input, config, **kwargs)\u001b[0m\n\u001b[0;32m    151\u001b[0m \u001b[38;5;28;01mtry\u001b[39;00m:\n\u001b[0;32m    152\u001b[0m     \u001b[38;5;28mself\u001b[39m\u001b[38;5;241m.\u001b[39m_validate_inputs(inputs)\n\u001b[0;32m    153\u001b[0m     outputs \u001b[38;5;241m=\u001b[39m (\n\u001b[1;32m--> 154\u001b[0m         \u001b[38;5;28;43mself\u001b[39;49m\u001b[38;5;241;43m.\u001b[39;49m\u001b[43m_call\u001b[49m\u001b[43m(\u001b[49m\u001b[43minputs\u001b[49m\u001b[43m,\u001b[49m\u001b[43m \u001b[49m\u001b[43mrun_manager\u001b[49m\u001b[38;5;241;43m=\u001b[39;49m\u001b[43mrun_manager\u001b[49m\u001b[43m)\u001b[49m\n\u001b[0;32m    155\u001b[0m         \u001b[38;5;28;01mif\u001b[39;00m new_arg_supported\n\u001b[0;32m    156\u001b[0m         \u001b[38;5;28;01melse\u001b[39;00m \u001b[38;5;28mself\u001b[39m\u001b[38;5;241m.\u001b[39m_call(inputs)\n\u001b[0;32m    157\u001b[0m     )\n\u001b[0;32m    159\u001b[0m     final_outputs: Dict[\u001b[38;5;28mstr\u001b[39m, Any] \u001b[38;5;241m=\u001b[39m \u001b[38;5;28mself\u001b[39m\u001b[38;5;241m.\u001b[39mprep_outputs(\n\u001b[0;32m    160\u001b[0m         inputs, outputs, return_only_outputs\n\u001b[0;32m    161\u001b[0m     )\n\u001b[0;32m    162\u001b[0m \u001b[38;5;28;01mexcept\u001b[39;00m \u001b[38;5;167;01mBaseException\u001b[39;00m \u001b[38;5;28;01mas\u001b[39;00m e:\n",
      "File \u001b[1;32mc:\\Users\\User\\OneDrive\\Desktop\\3. Semester\\Technische Informatik\\Labor\\gamemode_1\\.venv\\Lib\\site-packages\\langchain\\agents\\agent.py:1625\u001b[0m, in \u001b[0;36mAgentExecutor._call\u001b[1;34m(self, inputs, run_manager)\u001b[0m\n\u001b[0;32m   1623\u001b[0m \u001b[38;5;66;03m# We now enter the agent loop (until it returns something).\u001b[39;00m\n\u001b[0;32m   1624\u001b[0m \u001b[38;5;28;01mwhile\u001b[39;00m \u001b[38;5;28mself\u001b[39m\u001b[38;5;241m.\u001b[39m_should_continue(iterations, time_elapsed):\n\u001b[1;32m-> 1625\u001b[0m     next_step_output \u001b[38;5;241m=\u001b[39m \u001b[38;5;28;43mself\u001b[39;49m\u001b[38;5;241;43m.\u001b[39;49m\u001b[43m_take_next_step\u001b[49m\u001b[43m(\u001b[49m\n\u001b[0;32m   1626\u001b[0m \u001b[43m        \u001b[49m\u001b[43mname_to_tool_map\u001b[49m\u001b[43m,\u001b[49m\n\u001b[0;32m   1627\u001b[0m \u001b[43m        \u001b[49m\u001b[43mcolor_mapping\u001b[49m\u001b[43m,\u001b[49m\n\u001b[0;32m   1628\u001b[0m \u001b[43m        \u001b[49m\u001b[43minputs\u001b[49m\u001b[43m,\u001b[49m\n\u001b[0;32m   1629\u001b[0m \u001b[43m        \u001b[49m\u001b[43mintermediate_steps\u001b[49m\u001b[43m,\u001b[49m\n\u001b[0;32m   1630\u001b[0m \u001b[43m        \u001b[49m\u001b[43mrun_manager\u001b[49m\u001b[38;5;241;43m=\u001b[39;49m\u001b[43mrun_manager\u001b[49m\u001b[43m,\u001b[49m\n\u001b[0;32m   1631\u001b[0m \u001b[43m    \u001b[49m\u001b[43m)\u001b[49m\n\u001b[0;32m   1632\u001b[0m     \u001b[38;5;28;01mif\u001b[39;00m \u001b[38;5;28misinstance\u001b[39m(next_step_output, AgentFinish):\n\u001b[0;32m   1633\u001b[0m         \u001b[38;5;28;01mreturn\u001b[39;00m \u001b[38;5;28mself\u001b[39m\u001b[38;5;241m.\u001b[39m_return(\n\u001b[0;32m   1634\u001b[0m             next_step_output, intermediate_steps, run_manager\u001b[38;5;241m=\u001b[39mrun_manager\n\u001b[0;32m   1635\u001b[0m         )\n",
      "File \u001b[1;32mc:\\Users\\User\\OneDrive\\Desktop\\3. Semester\\Technische Informatik\\Labor\\gamemode_1\\.venv\\Lib\\site-packages\\langchain\\agents\\agent.py:1331\u001b[0m, in \u001b[0;36mAgentExecutor._take_next_step\u001b[1;34m(self, name_to_tool_map, color_mapping, inputs, intermediate_steps, run_manager)\u001b[0m\n\u001b[0;32m   1322\u001b[0m \u001b[38;5;28;01mdef\u001b[39;00m \u001b[38;5;21m_take_next_step\u001b[39m(\n\u001b[0;32m   1323\u001b[0m     \u001b[38;5;28mself\u001b[39m,\n\u001b[0;32m   1324\u001b[0m     name_to_tool_map: Dict[\u001b[38;5;28mstr\u001b[39m, BaseTool],\n\u001b[1;32m   (...)\u001b[0m\n\u001b[0;32m   1328\u001b[0m     run_manager: Optional[CallbackManagerForChainRun] \u001b[38;5;241m=\u001b[39m \u001b[38;5;28;01mNone\u001b[39;00m,\n\u001b[0;32m   1329\u001b[0m ) \u001b[38;5;241m-\u001b[39m\u001b[38;5;241m>\u001b[39m Union[AgentFinish, List[Tuple[AgentAction, \u001b[38;5;28mstr\u001b[39m]]]:\n\u001b[0;32m   1330\u001b[0m     \u001b[38;5;28;01mreturn\u001b[39;00m \u001b[38;5;28mself\u001b[39m\u001b[38;5;241m.\u001b[39m_consume_next_step(\n\u001b[1;32m-> 1331\u001b[0m         \u001b[43m[\u001b[49m\n\u001b[0;32m   1332\u001b[0m \u001b[43m            \u001b[49m\u001b[43ma\u001b[49m\n\u001b[0;32m   1333\u001b[0m \u001b[43m            \u001b[49m\u001b[38;5;28;43;01mfor\u001b[39;49;00m\u001b[43m \u001b[49m\u001b[43ma\u001b[49m\u001b[43m \u001b[49m\u001b[38;5;129;43;01min\u001b[39;49;00m\u001b[43m \u001b[49m\u001b[38;5;28;43mself\u001b[39;49m\u001b[38;5;241;43m.\u001b[39;49m\u001b[43m_iter_next_step\u001b[49m\u001b[43m(\u001b[49m\n\u001b[0;32m   1334\u001b[0m \u001b[43m                \u001b[49m\u001b[43mname_to_tool_map\u001b[49m\u001b[43m,\u001b[49m\n\u001b[0;32m   1335\u001b[0m \u001b[43m                \u001b[49m\u001b[43mcolor_mapping\u001b[49m\u001b[43m,\u001b[49m\n\u001b[0;32m   1336\u001b[0m \u001b[43m                \u001b[49m\u001b[43minputs\u001b[49m\u001b[43m,\u001b[49m\n\u001b[0;32m   1337\u001b[0m \u001b[43m                \u001b[49m\u001b[43mintermediate_steps\u001b[49m\u001b[43m,\u001b[49m\n\u001b[0;32m   1338\u001b[0m \u001b[43m                \u001b[49m\u001b[43mrun_manager\u001b[49m\u001b[43m,\u001b[49m\n\u001b[0;32m   1339\u001b[0m \u001b[43m            \u001b[49m\u001b[43m)\u001b[49m\n\u001b[0;32m   1340\u001b[0m \u001b[43m        \u001b[49m\u001b[43m]\u001b[49m\n\u001b[0;32m   1341\u001b[0m     )\n",
      "File \u001b[1;32mc:\\Users\\User\\OneDrive\\Desktop\\3. Semester\\Technische Informatik\\Labor\\gamemode_1\\.venv\\Lib\\site-packages\\langchain\\agents\\agent.py:1331\u001b[0m, in \u001b[0;36m<listcomp>\u001b[1;34m(.0)\u001b[0m\n\u001b[0;32m   1322\u001b[0m \u001b[38;5;28;01mdef\u001b[39;00m \u001b[38;5;21m_take_next_step\u001b[39m(\n\u001b[0;32m   1323\u001b[0m     \u001b[38;5;28mself\u001b[39m,\n\u001b[0;32m   1324\u001b[0m     name_to_tool_map: Dict[\u001b[38;5;28mstr\u001b[39m, BaseTool],\n\u001b[1;32m   (...)\u001b[0m\n\u001b[0;32m   1328\u001b[0m     run_manager: Optional[CallbackManagerForChainRun] \u001b[38;5;241m=\u001b[39m \u001b[38;5;28;01mNone\u001b[39;00m,\n\u001b[0;32m   1329\u001b[0m ) \u001b[38;5;241m-\u001b[39m\u001b[38;5;241m>\u001b[39m Union[AgentFinish, List[Tuple[AgentAction, \u001b[38;5;28mstr\u001b[39m]]]:\n\u001b[0;32m   1330\u001b[0m     \u001b[38;5;28;01mreturn\u001b[39;00m \u001b[38;5;28mself\u001b[39m\u001b[38;5;241m.\u001b[39m_consume_next_step(\n\u001b[1;32m-> 1331\u001b[0m         \u001b[43m[\u001b[49m\n\u001b[0;32m   1332\u001b[0m \u001b[43m            \u001b[49m\u001b[43ma\u001b[49m\n\u001b[0;32m   1333\u001b[0m \u001b[43m            \u001b[49m\u001b[38;5;28;43;01mfor\u001b[39;49;00m\u001b[43m \u001b[49m\u001b[43ma\u001b[49m\u001b[43m \u001b[49m\u001b[38;5;129;43;01min\u001b[39;49;00m\u001b[43m \u001b[49m\u001b[38;5;28;43mself\u001b[39;49m\u001b[38;5;241;43m.\u001b[39;49m\u001b[43m_iter_next_step\u001b[49m\u001b[43m(\u001b[49m\n\u001b[0;32m   1334\u001b[0m \u001b[43m                \u001b[49m\u001b[43mname_to_tool_map\u001b[49m\u001b[43m,\u001b[49m\n\u001b[0;32m   1335\u001b[0m \u001b[43m                \u001b[49m\u001b[43mcolor_mapping\u001b[49m\u001b[43m,\u001b[49m\n\u001b[0;32m   1336\u001b[0m \u001b[43m                \u001b[49m\u001b[43minputs\u001b[49m\u001b[43m,\u001b[49m\n\u001b[0;32m   1337\u001b[0m \u001b[43m                \u001b[49m\u001b[43mintermediate_steps\u001b[49m\u001b[43m,\u001b[49m\n\u001b[0;32m   1338\u001b[0m \u001b[43m                \u001b[49m\u001b[43mrun_manager\u001b[49m\u001b[43m,\u001b[49m\n\u001b[0;32m   1339\u001b[0m \u001b[43m            \u001b[49m\u001b[43m)\u001b[49m\n\u001b[0;32m   1340\u001b[0m \u001b[43m        \u001b[49m\u001b[43m]\u001b[49m\n\u001b[0;32m   1341\u001b[0m     )\n",
      "File \u001b[1;32mc:\\Users\\User\\OneDrive\\Desktop\\3. Semester\\Technische Informatik\\Labor\\gamemode_1\\.venv\\Lib\\site-packages\\langchain\\agents\\agent.py:1416\u001b[0m, in \u001b[0;36mAgentExecutor._iter_next_step\u001b[1;34m(self, name_to_tool_map, color_mapping, inputs, intermediate_steps, run_manager)\u001b[0m\n\u001b[0;32m   1414\u001b[0m     \u001b[38;5;28;01myield\u001b[39;00m agent_action\n\u001b[0;32m   1415\u001b[0m \u001b[38;5;28;01mfor\u001b[39;00m agent_action \u001b[38;5;129;01min\u001b[39;00m actions:\n\u001b[1;32m-> 1416\u001b[0m     \u001b[38;5;28;01myield\u001b[39;00m \u001b[38;5;28;43mself\u001b[39;49m\u001b[38;5;241;43m.\u001b[39;49m\u001b[43m_perform_agent_action\u001b[49m\u001b[43m(\u001b[49m\n\u001b[0;32m   1417\u001b[0m \u001b[43m        \u001b[49m\u001b[43mname_to_tool_map\u001b[49m\u001b[43m,\u001b[49m\u001b[43m \u001b[49m\u001b[43mcolor_mapping\u001b[49m\u001b[43m,\u001b[49m\u001b[43m \u001b[49m\u001b[43magent_action\u001b[49m\u001b[43m,\u001b[49m\u001b[43m \u001b[49m\u001b[43mrun_manager\u001b[49m\n\u001b[0;32m   1418\u001b[0m \u001b[43m    \u001b[49m\u001b[43m)\u001b[49m\n",
      "File \u001b[1;32mc:\\Users\\User\\OneDrive\\Desktop\\3. Semester\\Technische Informatik\\Labor\\gamemode_1\\.venv\\Lib\\site-packages\\langchain\\agents\\agent.py:1438\u001b[0m, in \u001b[0;36mAgentExecutor._perform_agent_action\u001b[1;34m(self, name_to_tool_map, color_mapping, agent_action, run_manager)\u001b[0m\n\u001b[0;32m   1436\u001b[0m         tool_run_kwargs[\u001b[38;5;124m\"\u001b[39m\u001b[38;5;124mllm_prefix\u001b[39m\u001b[38;5;124m\"\u001b[39m] \u001b[38;5;241m=\u001b[39m \u001b[38;5;124m\"\u001b[39m\u001b[38;5;124m\"\u001b[39m\n\u001b[0;32m   1437\u001b[0m     \u001b[38;5;66;03m# We then call the tool on the tool input to get an observation\u001b[39;00m\n\u001b[1;32m-> 1438\u001b[0m     observation \u001b[38;5;241m=\u001b[39m \u001b[43mtool\u001b[49m\u001b[38;5;241;43m.\u001b[39;49m\u001b[43mrun\u001b[49m\u001b[43m(\u001b[49m\n\u001b[0;32m   1439\u001b[0m \u001b[43m        \u001b[49m\u001b[43magent_action\u001b[49m\u001b[38;5;241;43m.\u001b[39;49m\u001b[43mtool_input\u001b[49m\u001b[43m,\u001b[49m\n\u001b[0;32m   1440\u001b[0m \u001b[43m        \u001b[49m\u001b[43mverbose\u001b[49m\u001b[38;5;241;43m=\u001b[39;49m\u001b[38;5;28;43mself\u001b[39;49m\u001b[38;5;241;43m.\u001b[39;49m\u001b[43mverbose\u001b[49m\u001b[43m,\u001b[49m\n\u001b[0;32m   1441\u001b[0m \u001b[43m        \u001b[49m\u001b[43mcolor\u001b[49m\u001b[38;5;241;43m=\u001b[39;49m\u001b[43mcolor\u001b[49m\u001b[43m,\u001b[49m\n\u001b[0;32m   1442\u001b[0m \u001b[43m        \u001b[49m\u001b[43mcallbacks\u001b[49m\u001b[38;5;241;43m=\u001b[39;49m\u001b[43mrun_manager\u001b[49m\u001b[38;5;241;43m.\u001b[39;49m\u001b[43mget_child\u001b[49m\u001b[43m(\u001b[49m\u001b[43m)\u001b[49m\u001b[43m \u001b[49m\u001b[38;5;28;43;01mif\u001b[39;49;00m\u001b[43m \u001b[49m\u001b[43mrun_manager\u001b[49m\u001b[43m \u001b[49m\u001b[38;5;28;43;01melse\u001b[39;49;00m\u001b[43m \u001b[49m\u001b[38;5;28;43;01mNone\u001b[39;49;00m\u001b[43m,\u001b[49m\n\u001b[0;32m   1443\u001b[0m \u001b[43m        \u001b[49m\u001b[38;5;241;43m*\u001b[39;49m\u001b[38;5;241;43m*\u001b[39;49m\u001b[43mtool_run_kwargs\u001b[49m\u001b[43m,\u001b[49m\n\u001b[0;32m   1444\u001b[0m \u001b[43m    \u001b[49m\u001b[43m)\u001b[49m\n\u001b[0;32m   1445\u001b[0m \u001b[38;5;28;01melse\u001b[39;00m:\n\u001b[0;32m   1446\u001b[0m     tool_run_kwargs \u001b[38;5;241m=\u001b[39m \u001b[38;5;28mself\u001b[39m\u001b[38;5;241m.\u001b[39m_action_agent\u001b[38;5;241m.\u001b[39mtool_run_logging_kwargs()\n",
      "File \u001b[1;32mc:\\Users\\User\\OneDrive\\Desktop\\3. Semester\\Technische Informatik\\Labor\\gamemode_1\\.venv\\Lib\\site-packages\\langchain_core\\tools\\base.py:586\u001b[0m, in \u001b[0;36mBaseTool.run\u001b[1;34m(self, tool_input, verbose, start_color, color, callbacks, tags, metadata, run_name, run_id, config, tool_call_id, **kwargs)\u001b[0m\n\u001b[0;32m    584\u001b[0m \u001b[38;5;28;01mif\u001b[39;00m error_to_raise:\n\u001b[0;32m    585\u001b[0m     run_manager\u001b[38;5;241m.\u001b[39mon_tool_error(error_to_raise)\n\u001b[1;32m--> 586\u001b[0m     \u001b[38;5;28;01mraise\u001b[39;00m error_to_raise\n\u001b[0;32m    587\u001b[0m output \u001b[38;5;241m=\u001b[39m _format_output(content, artifact, tool_call_id, \u001b[38;5;28mself\u001b[39m\u001b[38;5;241m.\u001b[39mname, status)\n\u001b[0;32m    588\u001b[0m run_manager\u001b[38;5;241m.\u001b[39mon_tool_end(output, color\u001b[38;5;241m=\u001b[39mcolor, name\u001b[38;5;241m=\u001b[39m\u001b[38;5;28mself\u001b[39m\u001b[38;5;241m.\u001b[39mname, \u001b[38;5;241m*\u001b[39m\u001b[38;5;241m*\u001b[39mkwargs)\n",
      "File \u001b[1;32mc:\\Users\\User\\OneDrive\\Desktop\\3. Semester\\Technische Informatik\\Labor\\gamemode_1\\.venv\\Lib\\site-packages\\langchain_core\\tools\\base.py:549\u001b[0m, in \u001b[0;36mBaseTool.run\u001b[1;34m(self, tool_input, verbose, start_color, color, callbacks, tags, metadata, run_name, run_id, config, tool_call_id, **kwargs)\u001b[0m\n\u001b[0;32m    547\u001b[0m context \u001b[38;5;241m=\u001b[39m copy_context()\n\u001b[0;32m    548\u001b[0m context\u001b[38;5;241m.\u001b[39mrun(_set_config_context, child_config)\n\u001b[1;32m--> 549\u001b[0m tool_args, tool_kwargs \u001b[38;5;241m=\u001b[39m \u001b[38;5;28;43mself\u001b[39;49m\u001b[38;5;241;43m.\u001b[39;49m\u001b[43m_to_args_and_kwargs\u001b[49m\u001b[43m(\u001b[49m\u001b[43mtool_input\u001b[49m\u001b[43m)\u001b[49m\n\u001b[0;32m    550\u001b[0m \u001b[38;5;28;01mif\u001b[39;00m signature(\u001b[38;5;28mself\u001b[39m\u001b[38;5;241m.\u001b[39m_run)\u001b[38;5;241m.\u001b[39mparameters\u001b[38;5;241m.\u001b[39mget(\u001b[38;5;124m\"\u001b[39m\u001b[38;5;124mrun_manager\u001b[39m\u001b[38;5;124m\"\u001b[39m):\n\u001b[0;32m    551\u001b[0m     tool_kwargs[\u001b[38;5;124m\"\u001b[39m\u001b[38;5;124mrun_manager\u001b[39m\u001b[38;5;124m\"\u001b[39m] \u001b[38;5;241m=\u001b[39m run_manager\n",
      "File \u001b[1;32mc:\\Users\\User\\OneDrive\\Desktop\\3. Semester\\Technische Informatik\\Labor\\gamemode_1\\.venv\\Lib\\site-packages\\langchain_core\\tools\\base.py:472\u001b[0m, in \u001b[0;36mBaseTool._to_args_and_kwargs\u001b[1;34m(self, tool_input)\u001b[0m\n\u001b[0;32m    471\u001b[0m \u001b[38;5;28;01mdef\u001b[39;00m \u001b[38;5;21m_to_args_and_kwargs\u001b[39m(\u001b[38;5;28mself\u001b[39m, tool_input: Union[\u001b[38;5;28mstr\u001b[39m, Dict]) \u001b[38;5;241m-\u001b[39m\u001b[38;5;241m>\u001b[39m Tuple[Tuple, Dict]:\n\u001b[1;32m--> 472\u001b[0m     tool_input \u001b[38;5;241m=\u001b[39m \u001b[38;5;28;43mself\u001b[39;49m\u001b[38;5;241;43m.\u001b[39;49m\u001b[43m_parse_input\u001b[49m\u001b[43m(\u001b[49m\u001b[43mtool_input\u001b[49m\u001b[43m)\u001b[49m\n\u001b[0;32m    473\u001b[0m     \u001b[38;5;66;03m# For backwards compatibility, if run_input is a string,\u001b[39;00m\n\u001b[0;32m    474\u001b[0m     \u001b[38;5;66;03m# pass as a positional argument.\u001b[39;00m\n\u001b[0;32m    475\u001b[0m     \u001b[38;5;28;01mif\u001b[39;00m \u001b[38;5;28misinstance\u001b[39m(tool_input, \u001b[38;5;28mstr\u001b[39m):\n",
      "File \u001b[1;32mc:\\Users\\User\\OneDrive\\Desktop\\3. Semester\\Technische Informatik\\Labor\\gamemode_1\\.venv\\Lib\\site-packages\\langchain_core\\tools\\base.py:424\u001b[0m, in \u001b[0;36mBaseTool._parse_input\u001b[1;34m(self, tool_input)\u001b[0m\n\u001b[0;32m    422\u001b[0m \u001b[38;5;28;01melse\u001b[39;00m:\n\u001b[0;32m    423\u001b[0m     \u001b[38;5;28;01mif\u001b[39;00m input_args \u001b[38;5;129;01mis\u001b[39;00m \u001b[38;5;129;01mnot\u001b[39;00m \u001b[38;5;28;01mNone\u001b[39;00m:\n\u001b[1;32m--> 424\u001b[0m         result \u001b[38;5;241m=\u001b[39m \u001b[43minput_args\u001b[49m\u001b[38;5;241;43m.\u001b[39;49m\u001b[43mparse_obj\u001b[49m\u001b[43m(\u001b[49m\u001b[43mtool_input\u001b[49m\u001b[43m)\u001b[49m\n\u001b[0;32m    425\u001b[0m         \u001b[38;5;28;01mreturn\u001b[39;00m {\n\u001b[0;32m    426\u001b[0m             k: \u001b[38;5;28mgetattr\u001b[39m(result, k)\n\u001b[0;32m    427\u001b[0m             \u001b[38;5;28;01mfor\u001b[39;00m k, v \u001b[38;5;129;01min\u001b[39;00m result\u001b[38;5;241m.\u001b[39mdict()\u001b[38;5;241m.\u001b[39mitems()\n\u001b[0;32m    428\u001b[0m             \u001b[38;5;28;01mif\u001b[39;00m k \u001b[38;5;129;01min\u001b[39;00m tool_input\n\u001b[0;32m    429\u001b[0m         }\n\u001b[0;32m    430\u001b[0m     \u001b[38;5;28;01mreturn\u001b[39;00m tool_input\n",
      "File \u001b[1;32mc:\\Users\\User\\OneDrive\\Desktop\\3. Semester\\Technische Informatik\\Labor\\gamemode_1\\.venv\\Lib\\site-packages\\pydantic\\v1\\main.py:526\u001b[0m, in \u001b[0;36mBaseModel.parse_obj\u001b[1;34m(cls, obj)\u001b[0m\n\u001b[0;32m    524\u001b[0m         exc \u001b[38;5;241m=\u001b[39m \u001b[38;5;167;01mTypeError\u001b[39;00m(\u001b[38;5;124mf\u001b[39m\u001b[38;5;124m'\u001b[39m\u001b[38;5;132;01m{\u001b[39;00m\u001b[38;5;28mcls\u001b[39m\u001b[38;5;241m.\u001b[39m\u001b[38;5;18m__name__\u001b[39m\u001b[38;5;132;01m}\u001b[39;00m\u001b[38;5;124m expected dict not \u001b[39m\u001b[38;5;132;01m{\u001b[39;00mobj\u001b[38;5;241m.\u001b[39m\u001b[38;5;18m__class__\u001b[39m\u001b[38;5;241m.\u001b[39m\u001b[38;5;18m__name__\u001b[39m\u001b[38;5;132;01m}\u001b[39;00m\u001b[38;5;124m'\u001b[39m)\n\u001b[0;32m    525\u001b[0m         \u001b[38;5;28;01mraise\u001b[39;00m ValidationError([ErrorWrapper(exc, loc\u001b[38;5;241m=\u001b[39mROOT_KEY)], \u001b[38;5;28mcls\u001b[39m) \u001b[38;5;28;01mfrom\u001b[39;00m \u001b[38;5;21;01me\u001b[39;00m\n\u001b[1;32m--> 526\u001b[0m \u001b[38;5;28;01mreturn\u001b[39;00m \u001b[38;5;28;43mcls\u001b[39;49m\u001b[43m(\u001b[49m\u001b[38;5;241;43m*\u001b[39;49m\u001b[38;5;241;43m*\u001b[39;49m\u001b[43mobj\u001b[49m\u001b[43m)\u001b[49m\n",
      "File \u001b[1;32mc:\\Users\\User\\OneDrive\\Desktop\\3. Semester\\Technische Informatik\\Labor\\gamemode_1\\.venv\\Lib\\site-packages\\pydantic\\v1\\main.py:341\u001b[0m, in \u001b[0;36mBaseModel.__init__\u001b[1;34m(__pydantic_self__, **data)\u001b[0m\n\u001b[0;32m    339\u001b[0m values, fields_set, validation_error \u001b[38;5;241m=\u001b[39m validate_model(__pydantic_self__\u001b[38;5;241m.\u001b[39m\u001b[38;5;18m__class__\u001b[39m, data)\n\u001b[0;32m    340\u001b[0m \u001b[38;5;28;01mif\u001b[39;00m validation_error:\n\u001b[1;32m--> 341\u001b[0m     \u001b[38;5;28;01mraise\u001b[39;00m validation_error\n\u001b[0;32m    342\u001b[0m \u001b[38;5;28;01mtry\u001b[39;00m:\n\u001b[0;32m    343\u001b[0m     object_setattr(__pydantic_self__, \u001b[38;5;124m'\u001b[39m\u001b[38;5;124m__dict__\u001b[39m\u001b[38;5;124m'\u001b[39m, values)\n",
      "\u001b[1;31mValidationError\u001b[0m: 1 validation error for addSchema\nfirst_int\n  value is not a valid integer (type=type_error.integer)"
     ]
    }
   ],
   "source": [
    "agent_executor_with_tools.invoke(\n",
    "    {\n",
    "        \"user_input\": \"Take 3 to the fifth power then add that 12.\"\n",
    "    }\n",
    ")"
   ]
  },
  {
   "cell_type": "markdown",
   "metadata": {},
   "source": [
    "#### [Optional] Task 4: Enhance Agent with Memory\n",
    "\n",
    "**Objective:**\n",
    "\n",
    "Eenhance the agent from Task 3 with memory to improve its context awareness and ability to maintain state.\n",
    "\n",
    "**Instructions:**\n",
    "\n",
    "- Create a ConversationBufferMemory to store chat history.\n",
    "- Modify the agent to use the memory to inform its responses.\n",
    "- Run the agent with a series of prompts that require context or state to be maintained.\n",
    "- Observe how the agent's responses improve with the addition of memory.\n",
    "\n",
    "**Useful links:**\n",
    "\n",
    "- [How To Memory 1](https://python.langchain.com/v0.2/api_reference/langchain/memory/langchain.memory.buffer.ConversationBufferMemory.html#langchain.memory.buffer.ConversationBufferMemory)\n",
    "- [How To Memory 1](https://python.langchain.com/v0.2/docs/versions/migrating_chains/conversation_chain/#legacy)"
   ]
  },
  {
   "cell_type": "code",
   "execution_count": null,
   "metadata": {},
   "outputs": [],
   "source": [
    "from langchain.memory import ConversationBufferMemory\n",
    "from langchain_core.prompts import MessagesPlaceholder\n",
    "\n",
    "# Load the Ollama model\n",
    "llm = ChatOllama(model=model)\n",
    "\n",
    "# Define memory object for conversation history\n",
    "memory = ConversationBufferMemory(memory_key=\"chat_history\", return_messages=True, output_key=\"output\")\n",
    "\n",
    "# ADD HERE YOUR CODE\n",
    "# Add history placeholder to prompt\n",
    "agent_prompt_with_memory = ...\n",
    "\n",
    "# ADD HERE YOUR CODE\n",
    "# Construct the tool calling agent\n",
    "agent_with_tools_and_memory = ...\n",
    "\n",
    "# ADD HERE YOUR CODE\n",
    "# Create an agent executor by passing in the agent and tools\n",
    "agent_executor_with_tools_and_memory = ..."
   ]
  },
  {
   "cell_type": "code",
   "execution_count": null,
   "metadata": {},
   "outputs": [],
   "source": [
    "question = \"Take 3 to the fifth power then add that 12?\"\n",
    "ai_msg_1 = agent_executor_with_tools_and_memory.invoke({\"user_input\": question})\n",
    "print(ai_msg_1[\"output\"])\n",
    "\n",
    "second_question = \"Explain how you have calculated the result.\"\n",
    "ai_msg_2 = agent_executor_with_tools_and_memory.invoke({\"user_input\": second_question})\n",
    "print(ai_msg_2[\"output\"])"
   ]
  }
 ],
 "metadata": {
  "kernelspec": {
   "display_name": ".venv",
   "language": "python",
   "name": "python3"
  },
  "language_info": {
   "codemirror_mode": {
    "name": "ipython",
    "version": 3
   },
   "file_extension": ".py",
   "mimetype": "text/x-python",
   "name": "python",
   "nbconvert_exporter": "python",
   "pygments_lexer": "ipython3",
   "version": "3.11.10"
  }
 },
 "nbformat": 4,
 "nbformat_minor": 2
}
